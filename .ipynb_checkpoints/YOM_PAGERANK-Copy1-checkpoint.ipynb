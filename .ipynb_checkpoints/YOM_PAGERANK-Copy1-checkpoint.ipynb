{
 "cells": [
  {
   "cell_type": "code",
   "execution_count": 44,
   "id": "41635c5c",
   "metadata": {},
   "outputs": [],
   "source": [
    "import pandas as pd\n",
    "import numpy as np\n",
    "import networkx as nx\n",
    "from sklearn.model_selection import train_test_split\n",
    "\n"
   ]
  },
  {
   "cell_type": "code",
   "execution_count": 45,
   "id": "e082b626",
   "metadata": {},
   "outputs": [],
   "source": [
    "commerces  = pd.read_csv(\"data/commerces.csv\")\n",
    "products = pd.read_csv(\"data/product.csv\")\n",
    "transactions = pd.read_csv(\"data/transactions.csv\")"
   ]
  },
  {
   "cell_type": "code",
   "execution_count": 46,
   "id": "f086deaf",
   "metadata": {},
   "outputs": [],
   "source": [
    "# Crear el grafo dirigido\n",
    "G = nx.DiGraph()\n"
   ]
  },
  {
   "cell_type": "code",
   "execution_count": 78,
   "id": "c946dead",
   "metadata": {},
   "outputs": [
    {
     "name": "stdout",
     "output_type": "stream",
     "text": [
      "<class 'pandas.core.frame.DataFrame'>\n",
      "RangeIndex: 100 entries, 0 to 99\n",
      "Data columns (total 2 columns):\n",
      " #   Column       Non-Null Count  Dtype \n",
      "---  ------       --------------  ----- \n",
      " 0   id_commerce  100 non-null    int64 \n",
      " 1   district     100 non-null    object\n",
      "dtypes: int64(1), object(1)\n",
      "memory usage: 1.7+ KB\n"
     ]
    }
   ],
   "source": [
    "commerces.info()"
   ]
  },
  {
   "cell_type": "code",
   "execution_count": 48,
   "id": "061cb67b",
   "metadata": {},
   "outputs": [],
   "source": [
    "# Agregar las conexiones de los distritos\n",
    "for _, row in commerces.iterrows():\n",
    "    G.add_edge('C' + str(row['id_commerce']), row['district'])\n"
   ]
  },
  {
   "cell_type": "code",
   "execution_count": 79,
   "id": "1503d2f5",
   "metadata": {},
   "outputs": [
    {
     "name": "stdout",
     "output_type": "stream",
     "text": [
      "<class 'pandas.core.frame.DataFrame'>\n",
      "RangeIndex: 50 entries, 0 to 49\n",
      "Data columns (total 4 columns):\n",
      " #   Column      Non-Null Count  Dtype \n",
      "---  ------      --------------  ----- \n",
      " 0   id_product  50 non-null     int64 \n",
      " 1   name        50 non-null     object\n",
      " 2   category    50 non-null     object\n",
      " 3   price       50 non-null     int64 \n",
      "dtypes: int64(2), object(2)\n",
      "memory usage: 1.7+ KB\n"
     ]
    }
   ],
   "source": [
    "products.info()\n"
   ]
  },
  {
   "cell_type": "code",
   "execution_count": 50,
   "id": "e3b89ab9",
   "metadata": {},
   "outputs": [],
   "source": [
    "# Agregar las conexiones de las categorías de productos\n",
    "for _, row in products.iterrows():\n",
    "    G.add_edge(\"P\" + str(row['id_product']), row['category'])"
   ]
  },
  {
   "cell_type": "code",
   "execution_count": 80,
   "id": "d0903ea2",
   "metadata": {},
   "outputs": [
    {
     "name": "stdout",
     "output_type": "stream",
     "text": [
      "<class 'pandas.core.frame.DataFrame'>\n",
      "RangeIndex: 500000 entries, 0 to 499999\n",
      "Data columns (total 4 columns):\n",
      " #   Column       Non-Null Count   Dtype\n",
      "---  ------       --------------   -----\n",
      " 0   id_commerce  500000 non-null  int64\n",
      " 1   id_product   500000 non-null  int64\n",
      " 2   quantity     500000 non-null  int64\n",
      " 3   price        500000 non-null  int64\n",
      "dtypes: int64(4)\n",
      "memory usage: 15.3 MB\n"
     ]
    }
   ],
   "source": [
    "transactions.info()"
   ]
  },
  {
   "cell_type": "code",
   "execution_count": 146,
   "id": "3893d1be",
   "metadata": {},
   "outputs": [],
   "source": [
    "# Crear un conjunto de train y test separando productos por usuario\n",
    "def split_train_test(df, test_size=0.2):\n",
    "    train_data = []\n",
    "    test_data = []\n",
    "\n",
    "    # Iterar por cada usuario\n",
    "    for user, user_data in df.groupby('id_commerce'):\n",
    "        # Dividir en train y test para los productos del usuario\n",
    "        user_train, user_test = train_test_split(user_data, test_size=test_size, random_state=42)\n",
    "        \n",
    "        # Agregar los datos divididos\n",
    "        train_data.append(user_train)\n",
    "        test_data.append(user_test)\n",
    "\n",
    "    # Combinar los datos de todos los usuarios\n",
    "    train_df = pd.concat(train_data)\n",
    "    test_df = pd.concat(test_data)\n",
    "\n",
    "    return train_df, test_df\n",
    "\n",
    "\n",
    "def split_data_per_client(transactions, test_size=0.4):\n",
    "    train_data = pd.DataFrame()\n",
    "    test_data = pd.DataFrame()\n",
    "\n",
    "    # Agrupar transacciones por cliente (id_commerce)\n",
    "    grouped = transactions.groupby('id_commerce')\n",
    "\n",
    "    for commerce_id, group in grouped:\n",
    "        # Obtener los productos comprados por el comercio\n",
    "        products = group['id_product'].unique()\n",
    "\n",
    "        # Usar train_test_split para dividir en 80% train y 20% test\n",
    "        train_products, test_products = train_test_split(products, test_size=test_size)\n",
    "\n",
    "        # Filtrar las transacciones de entrenamiento y prueba\n",
    "        train_data = pd.concat([train_data, group[group['id_product'].isin(train_products)]])\n",
    "        test_data = pd.concat([test_data, group[group['id_product'].isin(test_products)]])\n",
    "\n",
    "    return train_data, test_data\n",
    "\n",
    "\n",
    "# Dividir el conjunto de interacciones\n",
    "train_transactions, test_transactions = split_data_per_client(transactions, test_size=0.2)"
   ]
  },
  {
   "cell_type": "code",
   "execution_count": 147,
   "id": "4e359102",
   "metadata": {},
   "outputs": [
    {
     "data": {
      "text/plain": [
       "(400144, 4)"
      ]
     },
     "execution_count": 147,
     "metadata": {},
     "output_type": "execute_result"
    }
   ],
   "source": [
    "train_transactions.shape"
   ]
  },
  {
   "cell_type": "code",
   "execution_count": 148,
   "id": "2d143e20",
   "metadata": {},
   "outputs": [
    {
     "data": {
      "text/plain": [
       "(99856, 4)"
      ]
     },
     "execution_count": 148,
     "metadata": {},
     "output_type": "execute_result"
    }
   ],
   "source": [
    "test_transactions.shape"
   ]
  },
  {
   "cell_type": "code",
   "execution_count": 149,
   "id": "4c958e22",
   "metadata": {},
   "outputs": [
    {
     "data": {
      "text/plain": [
       "500000"
      ]
     },
     "execution_count": 149,
     "metadata": {},
     "output_type": "execute_result"
    }
   ],
   "source": [
    "400574 + 99426"
   ]
  },
  {
   "cell_type": "code",
   "execution_count": 150,
   "id": "ab3b4771",
   "metadata": {},
   "outputs": [],
   "source": [
    "# Agregar las interacciones con pesos (cantidad de compras)\n",
    "for _, row in train_transactions.iterrows():\n",
    "    G.add_edge(\"C\" + str(row['id_commerce']), \"P\"+ str(row['id_product']), weight=row['quantity'])\n",
    "\n"
   ]
  },
  {
   "cell_type": "code",
   "execution_count": 151,
   "id": "05775572",
   "metadata": {},
   "outputs": [],
   "source": [
    "\n",
    "# Aplicar el algoritmo de PageRank con pesos\n",
    "pagerank_scores_train = nx.pagerank(G, weight='weight')"
   ]
  },
  {
   "cell_type": "code",
   "execution_count": 152,
   "id": "9fd891b9",
   "metadata": {},
   "outputs": [
    {
     "data": {
      "text/plain": [
       "{'C1': 0.002781725252583384,\n",
       " 'Providencia': 0.002963426226898468,\n",
       " 'C2': 0.002781725252583384,\n",
       " 'Penalolen': 0.003023324502756195,\n",
       " 'C3': 0.002781725252583384,\n",
       " 'C4': 0.002781725252583384,\n",
       " 'Nunoa': 0.0029858362851968474,\n",
       " 'C5': 0.002781725252583384,\n",
       " 'C6': 0.002781725252583384,\n",
       " 'Macul': 0.0029214453691000317,\n",
       " 'C7': 0.002781725252583384,\n",
       " 'C8': 0.002781725252583384,\n",
       " 'C9': 0.002781725252583384,\n",
       " 'La Florida': 0.002962374025893638,\n",
       " 'C10': 0.002781725252583384,\n",
       " 'C11': 0.002781725252583384,\n",
       " 'C12': 0.002781725252583384,\n",
       " 'C13': 0.002781725252583384,\n",
       " 'C14': 0.002781725252583384,\n",
       " 'C15': 0.002781725252583384,\n",
       " 'C16': 0.002781725252583384,\n",
       " 'C17': 0.002781725252583384,\n",
       " 'C18': 0.002781725252583384,\n",
       " 'C19': 0.002781725252583384,\n",
       " 'C20': 0.002781725252583384,\n",
       " 'C21': 0.002781725252583384,\n",
       " 'C22': 0.002781725252583384,\n",
       " 'C23': 0.002781725252583384,\n",
       " 'C24': 0.002781725252583384,\n",
       " 'C25': 0.002781725252583384,\n",
       " 'C26': 0.002781725252583384,\n",
       " 'C27': 0.002781725252583384,\n",
       " 'C28': 0.002781725252583384,\n",
       " 'C29': 0.002781725252583384,\n",
       " 'C30': 0.002781725252583384,\n",
       " 'C31': 0.002781725252583384,\n",
       " 'C32': 0.002781725252583384,\n",
       " 'C33': 0.002781725252583384,\n",
       " 'C34': 0.002781725252583384,\n",
       " 'C35': 0.002781725252583384,\n",
       " 'C36': 0.002781725252583384,\n",
       " 'C37': 0.002781725252583384,\n",
       " 'C38': 0.002781725252583384,\n",
       " 'C39': 0.002781725252583384,\n",
       " 'C40': 0.002781725252583384,\n",
       " 'C41': 0.002781725252583384,\n",
       " 'C42': 0.002781725252583384,\n",
       " 'C43': 0.002781725252583384,\n",
       " 'C44': 0.002781725252583384,\n",
       " 'C45': 0.002781725252583384,\n",
       " 'C46': 0.002781725252583384,\n",
       " 'C47': 0.002781725252583384,\n",
       " 'C48': 0.002781725252583384,\n",
       " 'C49': 0.002781725252583384,\n",
       " 'C50': 0.002781725252583384,\n",
       " 'C51': 0.002781725252583384,\n",
       " 'C52': 0.002781725252583384,\n",
       " 'C53': 0.002781725252583384,\n",
       " 'C54': 0.002781725252583384,\n",
       " 'C55': 0.002781725252583384,\n",
       " 'C56': 0.002781725252583384,\n",
       " 'C57': 0.002781725252583384,\n",
       " 'C58': 0.002781725252583384,\n",
       " 'C59': 0.002781725252583384,\n",
       " 'C60': 0.002781725252583384,\n",
       " 'C61': 0.002781725252583384,\n",
       " 'C62': 0.002781725252583384,\n",
       " 'C63': 0.002781725252583384,\n",
       " 'C64': 0.002781725252583384,\n",
       " 'C65': 0.002781725252583384,\n",
       " 'C66': 0.002781725252583384,\n",
       " 'C67': 0.002781725252583384,\n",
       " 'C68': 0.002781725252583384,\n",
       " 'C69': 0.002781725252583384,\n",
       " 'C70': 0.002781725252583384,\n",
       " 'C71': 0.002781725252583384,\n",
       " 'C72': 0.002781725252583384,\n",
       " 'C73': 0.002781725252583384,\n",
       " 'C74': 0.002781725252583384,\n",
       " 'C75': 0.002781725252583384,\n",
       " 'C76': 0.002781725252583384,\n",
       " 'C77': 0.002781725252583384,\n",
       " 'C78': 0.002781725252583384,\n",
       " 'C79': 0.002781725252583384,\n",
       " 'C80': 0.002781725252583384,\n",
       " 'C81': 0.002781725252583384,\n",
       " 'C82': 0.002781725252583384,\n",
       " 'C83': 0.002781725252583384,\n",
       " 'C84': 0.002781725252583384,\n",
       " 'C85': 0.002781725252583384,\n",
       " 'C86': 0.002781725252583384,\n",
       " 'C87': 0.002781725252583384,\n",
       " 'C88': 0.002781725252583384,\n",
       " 'C89': 0.002781725252583384,\n",
       " 'C90': 0.002781725252583384,\n",
       " 'C91': 0.002781725252583384,\n",
       " 'C92': 0.002781725252583384,\n",
       " 'C93': 0.002781725252583384,\n",
       " 'C94': 0.002781725252583384,\n",
       " 'C95': 0.002781725252583384,\n",
       " 'C96': 0.002781725252583384,\n",
       " 'C97': 0.002781725252583384,\n",
       " 'C98': 0.002781725252583384,\n",
       " 'C99': 0.002781725252583384,\n",
       " 'C100': 0.002781725252583384,\n",
       " 'P1': 0.00767318382376906,\n",
       " 'Hogar': 0.0661920315369533,\n",
       " 'P2': 0.007875262126231729,\n",
       " 'Electrónica': 0.0661791760615089,\n",
       " 'P3': 0.007608148623371201,\n",
       " 'P4': 0.007009840151214503,\n",
       " 'Alimentos': 0.06066432074338114,\n",
       " 'P5': 0.007648298713959175,\n",
       " 'Ropa': 0.08564527463469146,\n",
       " 'P6': 0.007358276691331051,\n",
       " 'P7': 0.007325103819542293,\n",
       " 'Juguetes': 0.0536607647606022,\n",
       " 'P8': 0.007387097796270581,\n",
       " 'P9': 0.007759352243219663,\n",
       " 'P10': 0.007041865262647973,\n",
       " 'P11': 0.007611844777653153,\n",
       " 'P12': 0.007688619017999657,\n",
       " 'P13': 0.007430023590855894,\n",
       " 'P14': 0.007439106191004818,\n",
       " 'P15': 0.007366290447708949,\n",
       " 'P16': 0.007475501539328007,\n",
       " 'P17': 0.007644893278114191,\n",
       " 'P18': 0.007195201472358025,\n",
       " 'P19': 0.007540338246044095,\n",
       " 'P20': 0.007605805171202669,\n",
       " 'P21': 0.007614141021477794,\n",
       " 'P22': 0.007765494824247406,\n",
       " 'P23': 0.0074657757615821645,\n",
       " 'P24': 0.007384625835036784,\n",
       " 'P25': 0.007345168554684446,\n",
       " 'P26': 0.007383106185256919,\n",
       " 'P27': 0.007953231562276949,\n",
       " 'P28': 0.007046346071776841,\n",
       " 'P29': 0.00739563125279428,\n",
       " 'P30': 0.007519338791156026,\n",
       " 'P31': 0.007795643706675862,\n",
       " 'P32': 0.008042349131991804,\n",
       " 'P33': 0.007817220542224734,\n",
       " 'P34': 0.007223754511398806,\n",
       " 'P35': 0.007833568995755848,\n",
       " 'P36': 0.007623431126420874,\n",
       " 'P37': 0.007221559729728328,\n",
       " 'P38': 0.007524788395860306,\n",
       " 'P39': 0.00709330115605403,\n",
       " 'P40': 0.007654287618462379,\n",
       " 'P41': 0.007480208446890086,\n",
       " 'P42': 0.007745489260967169,\n",
       " 'P43': 0.007276037775315972,\n",
       " 'P44': 0.00758004944285902,\n",
       " 'P45': 0.006949673166035899,\n",
       " 'P46': 0.007848722827854447,\n",
       " 'P47': 0.007190532715367669,\n",
       " 'P48': 0.007236562692450542,\n",
       " 'P49': 0.007378388487663409,\n",
       " 'P50': 0.007557018020585726}"
      ]
     },
     "execution_count": 152,
     "metadata": {},
     "output_type": "execute_result"
    }
   ],
   "source": [
    "pagerank_scores_train"
   ]
  },
  {
   "cell_type": "code",
   "execution_count": 153,
   "id": "44f4d4a5",
   "metadata": {},
   "outputs": [
    {
     "data": {
      "text/html": [
       "<div>\n",
       "<style scoped>\n",
       "    .dataframe tbody tr th:only-of-type {\n",
       "        vertical-align: middle;\n",
       "    }\n",
       "\n",
       "    .dataframe tbody tr th {\n",
       "        vertical-align: top;\n",
       "    }\n",
       "\n",
       "    .dataframe thead th {\n",
       "        text-align: right;\n",
       "    }\n",
       "</style>\n",
       "<table border=\"1\" class=\"dataframe\">\n",
       "  <thead>\n",
       "    <tr style=\"text-align: right;\">\n",
       "      <th></th>\n",
       "      <th>Nodo</th>\n",
       "      <th>PageRank</th>\n",
       "    </tr>\n",
       "  </thead>\n",
       "  <tbody>\n",
       "    <tr>\n",
       "      <th>113</th>\n",
       "      <td>Ropa</td>\n",
       "      <td>0.085645</td>\n",
       "    </tr>\n",
       "    <tr>\n",
       "      <th>106</th>\n",
       "      <td>Hogar</td>\n",
       "      <td>0.066192</td>\n",
       "    </tr>\n",
       "    <tr>\n",
       "      <th>108</th>\n",
       "      <td>Electrónica</td>\n",
       "      <td>0.066179</td>\n",
       "    </tr>\n",
       "    <tr>\n",
       "      <th>111</th>\n",
       "      <td>Alimentos</td>\n",
       "      <td>0.060664</td>\n",
       "    </tr>\n",
       "    <tr>\n",
       "      <th>116</th>\n",
       "      <td>Juguetes</td>\n",
       "      <td>0.053661</td>\n",
       "    </tr>\n",
       "    <tr>\n",
       "      <th>...</th>\n",
       "      <td>...</td>\n",
       "      <td>...</td>\n",
       "    </tr>\n",
       "    <tr>\n",
       "      <th>56</th>\n",
       "      <td>C52</td>\n",
       "      <td>0.002782</td>\n",
       "    </tr>\n",
       "    <tr>\n",
       "      <th>57</th>\n",
       "      <td>C53</td>\n",
       "      <td>0.002782</td>\n",
       "    </tr>\n",
       "    <tr>\n",
       "      <th>58</th>\n",
       "      <td>C54</td>\n",
       "      <td>0.002782</td>\n",
       "    </tr>\n",
       "    <tr>\n",
       "      <th>59</th>\n",
       "      <td>C55</td>\n",
       "      <td>0.002782</td>\n",
       "    </tr>\n",
       "    <tr>\n",
       "      <th>80</th>\n",
       "      <td>C76</td>\n",
       "      <td>0.002782</td>\n",
       "    </tr>\n",
       "  </tbody>\n",
       "</table>\n",
       "<p>160 rows × 2 columns</p>\n",
       "</div>"
      ],
      "text/plain": [
       "            Nodo  PageRank\n",
       "113         Ropa  0.085645\n",
       "106        Hogar  0.066192\n",
       "108  Electrónica  0.066179\n",
       "111    Alimentos  0.060664\n",
       "116     Juguetes  0.053661\n",
       "..           ...       ...\n",
       "56           C52  0.002782\n",
       "57           C53  0.002782\n",
       "58           C54  0.002782\n",
       "59           C55  0.002782\n",
       "80           C76  0.002782\n",
       "\n",
       "[160 rows x 2 columns]"
      ]
     },
     "execution_count": 153,
     "metadata": {},
     "output_type": "execute_result"
    }
   ],
   "source": [
    "# Convertir los resultados a un DataFrame\n",
    "df_pagerank_train = pd.DataFrame(list(pagerank_scores_train.items()), columns=[\"Nodo\", \"PageRank\"])\n",
    "df_pagerank_train.sort_values(by=\"PageRank\", ascending=False, inplace=True)\n",
    "\n",
    "# Mostrar los resultados de PageRank\n",
    "df_pagerank_train\n",
    "\n",
    "\n",
    "# Convertir los resultados a un DataFrame\n",
    "#df = pd.DataFrame(list(pagerank_scores.items()), columns=[\"Nodo\", \"PageRank\"])\n",
    "#df.sort_values(by=\"PageRank\", ascending=False, inplace=True)\n"
   ]
  },
  {
   "cell_type": "code",
   "execution_count": 172,
   "id": "f7946b4c",
   "metadata": {},
   "outputs": [
    {
     "name": "stdout",
     "output_type": "stream",
     "text": [
      "['Providencia', 'Penalolen', 'P1', 'P2', 'P3', 'P4', 'P5', 'P6', 'P7', 'P8', 'P9', 'P10', 'P11', 'P12', 'P13', 'P14', 'P15', 'P16', 'P17', 'P18', 'P19', 'P20', 'P21', 'P22', 'P23', 'P24', 'P25', 'P26', 'P27', 'P28', 'P29', 'P30', 'P31', 'P32', 'P33', 'P34', 'P35', 'P36', 'P37', 'P38', 'P39', 'P40', 'P41', 'P42', 'P43', 'P44', 'P45', 'P46', 'P47', 'P48', 'P49', 'P50']\n"
     ]
    },
    {
     "data": {
      "text/html": [
       "<div>\n",
       "<style scoped>\n",
       "    .dataframe tbody tr th:only-of-type {\n",
       "        vertical-align: middle;\n",
       "    }\n",
       "\n",
       "    .dataframe tbody tr th {\n",
       "        vertical-align: top;\n",
       "    }\n",
       "\n",
       "    .dataframe thead th {\n",
       "        text-align: right;\n",
       "    }\n",
       "</style>\n",
       "<table border=\"1\" class=\"dataframe\">\n",
       "  <thead>\n",
       "    <tr style=\"text-align: right;\">\n",
       "      <th></th>\n",
       "      <th>Nodo</th>\n",
       "      <th>PageRank</th>\n",
       "    </tr>\n",
       "  </thead>\n",
       "  <tbody>\n",
       "    <tr>\n",
       "      <th>140</th>\n",
       "      <td>P31</td>\n",
       "      <td>0.007796</td>\n",
       "    </tr>\n",
       "    <tr>\n",
       "      <th>131</th>\n",
       "      <td>P22</td>\n",
       "      <td>0.007765</td>\n",
       "    </tr>\n",
       "    <tr>\n",
       "      <th>121</th>\n",
       "      <td>P12</td>\n",
       "      <td>0.007689</td>\n",
       "    </tr>\n",
       "    <tr>\n",
       "      <th>153</th>\n",
       "      <td>P44</td>\n",
       "      <td>0.007580</td>\n",
       "    </tr>\n",
       "    <tr>\n",
       "      <th>132</th>\n",
       "      <td>P23</td>\n",
       "      <td>0.007466</td>\n",
       "    </tr>\n",
       "    <tr>\n",
       "      <th>138</th>\n",
       "      <td>P29</td>\n",
       "      <td>0.007396</td>\n",
       "    </tr>\n",
       "    <tr>\n",
       "      <th>133</th>\n",
       "      <td>P24</td>\n",
       "      <td>0.007385</td>\n",
       "    </tr>\n",
       "    <tr>\n",
       "      <th>135</th>\n",
       "      <td>P26</td>\n",
       "      <td>0.007383</td>\n",
       "    </tr>\n",
       "    <tr>\n",
       "      <th>152</th>\n",
       "      <td>P43</td>\n",
       "      <td>0.007276</td>\n",
       "    </tr>\n",
       "    <tr>\n",
       "      <th>110</th>\n",
       "      <td>P4</td>\n",
       "      <td>0.007010</td>\n",
       "    </tr>\n",
       "    <tr>\n",
       "      <th>3</th>\n",
       "      <td>Penalolen</td>\n",
       "      <td>0.003023</td>\n",
       "    </tr>\n",
       "    <tr>\n",
       "      <th>1</th>\n",
       "      <td>Providencia</td>\n",
       "      <td>0.002963</td>\n",
       "    </tr>\n",
       "  </tbody>\n",
       "</table>\n",
       "</div>"
      ],
      "text/plain": [
       "            Nodo  PageRank\n",
       "140          P31  0.007796\n",
       "131          P22  0.007765\n",
       "121          P12  0.007689\n",
       "153          P44  0.007580\n",
       "132          P23  0.007466\n",
       "138          P29  0.007396\n",
       "133          P24  0.007385\n",
       "135          P26  0.007383\n",
       "152          P43  0.007276\n",
       "110           P4  0.007010\n",
       "3      Penalolen  0.003023\n",
       "1    Providencia  0.002963"
      ]
     },
     "execution_count": 172,
     "metadata": {},
     "output_type": "execute_result"
    }
   ],
   "source": [
    "# Función para recomendar productos a un usuario basado en PageRank\n",
    "def recomendar_productos(usuario, productos_comprados, distrito):\n",
    "    # Obtener todos los productos del grafo\n",
    "    productos = [n for n in G.nodes() if n.startswith(\"P\")]\n",
    "    print(productos)\n",
    "    \n",
    "    # Obtener productos del distrito del usuario\n",
    "    productos_distrito = [n for n in G.neighbors(distrito) if n.startswith(\"P\")]\n",
    "    \n",
    "    # Filtrar productos que no ha comprado el usuario\n",
    "    productos_a_recomendar = [p for p in productos_distrito if p not in productos_comprados]\n",
    "    \n",
    "    # Si no hay productos disponibles en el distrito, recomendar productos globales\n",
    "    if not productos_a_recomendar:\n",
    "        productos_a_recomendar = [p for p in productos if p not in productos_comprados]\n",
    "    \n",
    "    # Filtrar y ordenar por PageRank los productos que no ha comprado el usuario\n",
    "    recomendaciones = df_pagerank_train[df_pagerank_train['Nodo'].isin(productos_a_recomendar)].sort_values(by=\"PageRank\", ascending=False)\n",
    "    \n",
    "    return recomendaciones\n",
    "\n",
    "\n",
    "\n",
    "\n",
    "# Ejemplo: recomendar productos a U1 que pertenece al distrito D1\n",
    "usuario = \"C1\"\n",
    "#productos_comprados = [\"P1\", \"P2\", \"P48\"]\n",
    "productos_comprados = [\"P\" + str(i) for i in train_transactions[train_transactions[\"id_commerce\"] == 1].id_product.unique()]\n",
    "\n",
    "distrito_usuario = \"Providencia\"\n",
    "\n",
    "recomendaciones = recomendar_productos(usuario, productos_comprados, distrito_usuario)\n",
    "\n",
    "# Mostrar las recomendaciones\n",
    "recomendaciones\n"
   ]
  },
  {
   "cell_type": "code",
   "execution_count": 164,
   "id": "6f34a5c2",
   "metadata": {},
   "outputs": [
    {
     "data": {
      "text/plain": [
       "array([32, 33, 35, 13, 45, 11,  6, 36, 20,  8,  5,  1, 47,  9, 39,  7, 27,\n",
       "       38, 50, 49, 42, 15, 46, 18, 17, 40, 37, 41, 16, 34,  3, 10, 30, 48,\n",
       "        2, 19, 25, 21, 28, 14])"
      ]
     },
     "execution_count": 164,
     "metadata": {},
     "output_type": "execute_result"
    }
   ],
   "source": [
    "train_transactions[train_transactions.id_commerce == 1].id_product.unique()"
   ]
  },
  {
   "cell_type": "code",
   "execution_count": 166,
   "id": "1696226e",
   "metadata": {},
   "outputs": [
    {
     "data": {
      "text/plain": [
       "array([43, 44, 23, 22,  4, 24, 12, 31, 26, 29])"
      ]
     },
     "execution_count": 166,
     "metadata": {},
     "output_type": "execute_result"
    }
   ],
   "source": [
    "test_transactions[test_transactions.id_commerce == 1].id_product.unique()"
   ]
  },
  {
   "cell_type": "code",
   "execution_count": 157,
   "id": "5ecccf8c",
   "metadata": {},
   "outputs": [
    {
     "data": {
      "text/plain": [
       "{'C1': 0.002781725252583384,\n",
       " 'Providencia': 0.002963426226898468,\n",
       " 'C2': 0.002781725252583384,\n",
       " 'Penalolen': 0.003023324502756195,\n",
       " 'C3': 0.002781725252583384,\n",
       " 'C4': 0.002781725252583384,\n",
       " 'Nunoa': 0.0029858362851968474,\n",
       " 'C5': 0.002781725252583384,\n",
       " 'C6': 0.002781725252583384,\n",
       " 'Macul': 0.0029214453691000317,\n",
       " 'C7': 0.002781725252583384,\n",
       " 'C8': 0.002781725252583384,\n",
       " 'C9': 0.002781725252583384,\n",
       " 'La Florida': 0.002962374025893638,\n",
       " 'C10': 0.002781725252583384,\n",
       " 'C11': 0.002781725252583384,\n",
       " 'C12': 0.002781725252583384,\n",
       " 'C13': 0.002781725252583384,\n",
       " 'C14': 0.002781725252583384,\n",
       " 'C15': 0.002781725252583384,\n",
       " 'C16': 0.002781725252583384,\n",
       " 'C17': 0.002781725252583384,\n",
       " 'C18': 0.002781725252583384,\n",
       " 'C19': 0.002781725252583384,\n",
       " 'C20': 0.002781725252583384,\n",
       " 'C21': 0.002781725252583384,\n",
       " 'C22': 0.002781725252583384,\n",
       " 'C23': 0.002781725252583384,\n",
       " 'C24': 0.002781725252583384,\n",
       " 'C25': 0.002781725252583384,\n",
       " 'C26': 0.002781725252583384,\n",
       " 'C27': 0.002781725252583384,\n",
       " 'C28': 0.002781725252583384,\n",
       " 'C29': 0.002781725252583384,\n",
       " 'C30': 0.002781725252583384,\n",
       " 'C31': 0.002781725252583384,\n",
       " 'C32': 0.002781725252583384,\n",
       " 'C33': 0.002781725252583384,\n",
       " 'C34': 0.002781725252583384,\n",
       " 'C35': 0.002781725252583384,\n",
       " 'C36': 0.002781725252583384,\n",
       " 'C37': 0.002781725252583384,\n",
       " 'C38': 0.002781725252583384,\n",
       " 'C39': 0.002781725252583384,\n",
       " 'C40': 0.002781725252583384,\n",
       " 'C41': 0.002781725252583384,\n",
       " 'C42': 0.002781725252583384,\n",
       " 'C43': 0.002781725252583384,\n",
       " 'C44': 0.002781725252583384,\n",
       " 'C45': 0.002781725252583384,\n",
       " 'C46': 0.002781725252583384,\n",
       " 'C47': 0.002781725252583384,\n",
       " 'C48': 0.002781725252583384,\n",
       " 'C49': 0.002781725252583384,\n",
       " 'C50': 0.002781725252583384,\n",
       " 'C51': 0.002781725252583384,\n",
       " 'C52': 0.002781725252583384,\n",
       " 'C53': 0.002781725252583384,\n",
       " 'C54': 0.002781725252583384,\n",
       " 'C55': 0.002781725252583384,\n",
       " 'C56': 0.002781725252583384,\n",
       " 'C57': 0.002781725252583384,\n",
       " 'C58': 0.002781725252583384,\n",
       " 'C59': 0.002781725252583384,\n",
       " 'C60': 0.002781725252583384,\n",
       " 'C61': 0.002781725252583384,\n",
       " 'C62': 0.002781725252583384,\n",
       " 'C63': 0.002781725252583384,\n",
       " 'C64': 0.002781725252583384,\n",
       " 'C65': 0.002781725252583384,\n",
       " 'C66': 0.002781725252583384,\n",
       " 'C67': 0.002781725252583384,\n",
       " 'C68': 0.002781725252583384,\n",
       " 'C69': 0.002781725252583384,\n",
       " 'C70': 0.002781725252583384,\n",
       " 'C71': 0.002781725252583384,\n",
       " 'C72': 0.002781725252583384,\n",
       " 'C73': 0.002781725252583384,\n",
       " 'C74': 0.002781725252583384,\n",
       " 'C75': 0.002781725252583384,\n",
       " 'C76': 0.002781725252583384,\n",
       " 'C77': 0.002781725252583384,\n",
       " 'C78': 0.002781725252583384,\n",
       " 'C79': 0.002781725252583384,\n",
       " 'C80': 0.002781725252583384,\n",
       " 'C81': 0.002781725252583384,\n",
       " 'C82': 0.002781725252583384,\n",
       " 'C83': 0.002781725252583384,\n",
       " 'C84': 0.002781725252583384,\n",
       " 'C85': 0.002781725252583384,\n",
       " 'C86': 0.002781725252583384,\n",
       " 'C87': 0.002781725252583384,\n",
       " 'C88': 0.002781725252583384,\n",
       " 'C89': 0.002781725252583384,\n",
       " 'C90': 0.002781725252583384,\n",
       " 'C91': 0.002781725252583384,\n",
       " 'C92': 0.002781725252583384,\n",
       " 'C93': 0.002781725252583384,\n",
       " 'C94': 0.002781725252583384,\n",
       " 'C95': 0.002781725252583384,\n",
       " 'C96': 0.002781725252583384,\n",
       " 'C97': 0.002781725252583384,\n",
       " 'C98': 0.002781725252583384,\n",
       " 'C99': 0.002781725252583384,\n",
       " 'C100': 0.002781725252583384,\n",
       " 'P1': 0.00767318382376906,\n",
       " 'Hogar': 0.0661920315369533,\n",
       " 'P2': 0.007875262126231729,\n",
       " 'Electrónica': 0.0661791760615089,\n",
       " 'P3': 0.007608148623371201,\n",
       " 'P4': 0.007009840151214503,\n",
       " 'Alimentos': 0.06066432074338114,\n",
       " 'P5': 0.007648298713959175,\n",
       " 'Ropa': 0.08564527463469146,\n",
       " 'P6': 0.007358276691331051,\n",
       " 'P7': 0.007325103819542293,\n",
       " 'Juguetes': 0.0536607647606022,\n",
       " 'P8': 0.007387097796270581,\n",
       " 'P9': 0.007759352243219663,\n",
       " 'P10': 0.007041865262647973,\n",
       " 'P11': 0.007611844777653153,\n",
       " 'P12': 0.007688619017999657,\n",
       " 'P13': 0.007430023590855894,\n",
       " 'P14': 0.007439106191004818,\n",
       " 'P15': 0.007366290447708949,\n",
       " 'P16': 0.007475501539328007,\n",
       " 'P17': 0.007644893278114191,\n",
       " 'P18': 0.007195201472358025,\n",
       " 'P19': 0.007540338246044095,\n",
       " 'P20': 0.007605805171202669,\n",
       " 'P21': 0.007614141021477794,\n",
       " 'P22': 0.007765494824247406,\n",
       " 'P23': 0.0074657757615821645,\n",
       " 'P24': 0.007384625835036784,\n",
       " 'P25': 0.007345168554684446,\n",
       " 'P26': 0.007383106185256919,\n",
       " 'P27': 0.007953231562276949,\n",
       " 'P28': 0.007046346071776841,\n",
       " 'P29': 0.00739563125279428,\n",
       " 'P30': 0.007519338791156026,\n",
       " 'P31': 0.007795643706675862,\n",
       " 'P32': 0.008042349131991804,\n",
       " 'P33': 0.007817220542224734,\n",
       " 'P34': 0.007223754511398806,\n",
       " 'P35': 0.007833568995755848,\n",
       " 'P36': 0.007623431126420874,\n",
       " 'P37': 0.007221559729728328,\n",
       " 'P38': 0.007524788395860306,\n",
       " 'P39': 0.00709330115605403,\n",
       " 'P40': 0.007654287618462379,\n",
       " 'P41': 0.007480208446890086,\n",
       " 'P42': 0.007745489260967169,\n",
       " 'P43': 0.007276037775315972,\n",
       " 'P44': 0.00758004944285902,\n",
       " 'P45': 0.006949673166035899,\n",
       " 'P46': 0.007848722827854447,\n",
       " 'P47': 0.007190532715367669,\n",
       " 'P48': 0.007236562692450542,\n",
       " 'P49': 0.007378388487663409,\n",
       " 'P50': 0.007557018020585726}"
      ]
     },
     "execution_count": 157,
     "metadata": {},
     "output_type": "execute_result"
    }
   ],
   "source": [
    "pagerank_scores_train"
   ]
  },
  {
   "cell_type": "code",
   "execution_count": 158,
   "id": "bc3c2520",
   "metadata": {},
   "outputs": [],
   "source": [
    "\n",
    "# Función para obtener las top-k recomendaciones personalizadas por usuario\n",
    "def obtener_top_k_recomendaciones(pagerank_scores, usuario, productos_vistos, k):\n",
    "    # Ordenar por PageRank y obtener los productos que el usuario no ha visto\n",
    "    sorted_scores = sorted(pagerank_scores.items(), key=lambda x: x[1], reverse=True)\n",
    "    \n",
    "    # Filtrar solo los productos que el usuario no ha visto\n",
    "    top_k_recomendaciones = [nodo for nodo, score in sorted_scores if nodo.startswith(\"P\") and nodo not in productos_vistos][:k]\n",
    "    \n",
    "    return top_k_recomendaciones\n",
    "\n",
    "# Función para obtener las top-k recomendaciones solo de productos que el usuario no haya comprado\n",
    "def obtener_top_k_recomendaciones(pagerank_scores, usuario, productos_vistos, k):\n",
    "    # Ordenar por PageRank y obtener los productos que el usuario no ha visto\n",
    "    sorted_scores = sorted(pagerank_scores.items(), key=lambda x: x[1], reverse=True)\n",
    "    \n",
    "    # Filtrar solo los productos que el usuario no ha visto (excluir los comprados en train)\n",
    "    top_k_recomendaciones = [nodo for nodo, score in sorted_scores if nodo.startswith(\"P\") and nodo not in productos_vistos][:k]\n",
    "    \n",
    "    return top_k_recomendaciones\n",
    "\n",
    "# Función para obtener las top-k recomendaciones solo de productos que el usuario no haya comprado\n",
    "def obtener_top_k_recomendaciones(pagerank_scores, usuario, train_df, k):\n",
    "    # Obtener los productos que el usuario ya ha visto en el conjunto de train\n",
    "    productos_vistos = set(train_df[train_df['id_commerce'] == usuario]['id_product'].tolist())\n",
    "    \n",
    "    # Filtrar las recomendaciones basadas en productos que el usuario no ha visto/comprado\n",
    "    sorted_scores = sorted(pagerank_scores.items(), key=lambda x: x[1], reverse=True)\n",
    "    \n",
    "    # Filtrar productos que el usuario no ha visto en el conjunto de train\n",
    "    top_k_recomendaciones = [nodo for nodo, score in sorted_scores if nodo.startswith(\"P\") and nodo not in productos_vistos][:k]\n",
    "    \n",
    "    return top_k_recomendaciones\n",
    "\n",
    "\n"
   ]
  },
  {
   "cell_type": "code",
   "execution_count": 159,
   "id": "b1686437",
   "metadata": {},
   "outputs": [],
   "source": [
    "\n",
    "vistos = [\"P\" + str(i) for i in train_transactions[train_transactions[\"id_commerce\"] == 1].id_product.unique()]\n",
    "top_k_recomendaciones = obtener_top_k_recomendaciones(pagerank_scores_train,1,train_transactions, 5)"
   ]
  },
  {
   "cell_type": "code",
   "execution_count": 160,
   "id": "c9d17697",
   "metadata": {},
   "outputs": [
    {
     "data": {
      "text/plain": [
       "['P32', 'P27', 'P2', 'P46', 'P35']"
      ]
     },
     "execution_count": 160,
     "metadata": {},
     "output_type": "execute_result"
    }
   ],
   "source": [
    "top_k_recomendaciones "
   ]
  },
  {
   "cell_type": "code",
   "execution_count": 161,
   "id": "a55f80e8",
   "metadata": {},
   "outputs": [
    {
     "data": {
      "text/plain": [
       "array([32, 33, 35, 13, 45, 11,  6, 36, 20,  8,  5,  1, 47,  9, 39,  7, 27,\n",
       "       38, 50, 49, 42, 15, 46, 18, 17, 40, 37, 41, 16, 34,  3, 10, 30, 48,\n",
       "        2, 19, 25, 21, 28, 14])"
      ]
     },
     "execution_count": 161,
     "metadata": {},
     "output_type": "execute_result"
    }
   ],
   "source": [
    "train_transactions[train_transactions[\"id_commerce\"] == 1].id_product.unique()"
   ]
  },
  {
   "cell_type": "code",
   "execution_count": 162,
   "id": "b9adcd3f",
   "metadata": {},
   "outputs": [
    {
     "data": {
      "text/plain": [
       "array([43, 44, 23, 22,  4, 24, 12, 31, 26, 29])"
      ]
     },
     "execution_count": 162,
     "metadata": {},
     "output_type": "execute_result"
    }
   ],
   "source": [
    "test_transactions[test_transactions[\"id_commerce\"] == 1].id_product.unique()"
   ]
  },
  {
   "cell_type": "code",
   "execution_count": null,
   "id": "26e70490",
   "metadata": {},
   "outputs": [],
   "source": []
  },
  {
   "cell_type": "code",
   "execution_count": null,
   "id": "37410ecc",
   "metadata": {},
   "outputs": [],
   "source": []
  }
 ],
 "metadata": {
  "kernelspec": {
   "display_name": "Python 3 (ipykernel)",
   "language": "python",
   "name": "python3"
  },
  "language_info": {
   "codemirror_mode": {
    "name": "ipython",
    "version": 3
   },
   "file_extension": ".py",
   "mimetype": "text/x-python",
   "name": "python",
   "nbconvert_exporter": "python",
   "pygments_lexer": "ipython3",
   "version": "3.9.7"
  }
 },
 "nbformat": 4,
 "nbformat_minor": 5
}
